{
 "cells": [
  {
   "cell_type": "code",
   "execution_count": null,
   "metadata": {
    "collapsed": false
   },
   "outputs": [],
   "source": [
    "import matplotlib as mpl\n",
    "mpl.use('TkAgg')\n",
    "import matplotlib.pyplot as plt\n",
    "%matplotlib inline\n",
    "\n",
    "import pandas as pd\n",
    "import seaborn as sns"
   ]
  },
  {
   "cell_type": "code",
   "execution_count": null,
   "metadata": {
    "collapsed": false
   },
   "outputs": [],
   "source": [
    "import sys\n",
    "print(sys.version)"
   ]
  },
  {
   "cell_type": "code",
   "execution_count": null,
   "metadata": {
    "collapsed": false
   },
   "outputs": [],
   "source": [
    "!python --version "
   ]
  },
  {
   "cell_type": "markdown",
   "metadata": {},
   "source": [
    "# Prepare a minimal data set. "
   ]
  },
  {
   "cell_type": "code",
   "execution_count": null,
   "metadata": {
    "collapsed": true
   },
   "outputs": [],
   "source": [
    "df = pd.DataFrame({'age':[1.,2,3,4,5,6,7,8,9],\n",
    "                   'height':[4, 4.5, 5, 6, 7, 8, 9, 9.5, 10],\n",
    "                   'gender':['M','F', 'F','M','M','F', 'F','M', 'F'],\n",
    "                   #'hair color':['brown','black', 'brown', 'blonde', 'brown', 'red', \n",
    "                   #              'brown', 'brown', 'black' ],\n",
    "                   'hair length':[1,6,2,3,1,5,6,5,3] })"
   ]
  },
  {
   "cell_type": "markdown",
   "metadata": {},
   "source": [
    "Plotting separate data columns as separate sub-plots:"
   ]
  },
  {
   "cell_type": "code",
   "execution_count": null,
   "metadata": {
    "collapsed": true
   },
   "outputs": [],
   "source": [
    "def plot_2_subplots(df, x1, y1, y2, x2=None, title=None):\n",
    "    fig, axs = plt.subplots(2, 1, figsize=(5, 4))\n",
    "    colors = ['c','b']\n",
    "\n",
    "    # get the data array for x1:\n",
    "    x1d = df[x1]\n",
    "    \n",
    "    # get the data array for x2:\n",
    "    if x2 is None: # use x1 as x2\n",
    "        x2d=df[x1]\n",
    "        x2=x1\n",
    "        # todo (?) share x axis if x2 was None?\n",
    "    else:\n",
    "        x2d=df[x2]\n",
    "        \n",
    "    # get the data arrays for y1, y2:\n",
    "    y1d=df[y1]\n",
    "    y2d=df[y2]\n",
    "    \n",
    "    axs[0].plot(x1d, y1d, linestyle='--', marker='o', color=colors[0]) #, label=y1)\n",
    "    axs[0].set_xlabel(x1)\n",
    "    axs[0].set_ylabel(y1)\n",
    "    \n",
    "    axs[1].plot(x2d, y2d, linestyle='--', marker='o', color=colors[1]) #, label=y2)\n",
    "    axs[1].set_xlabel(x2)\n",
    "    axs[1].set_ylabel(y2)\n",
    "    \n",
    "    for subplot in axs:\n",
    "        subplot.legend(loc='best') \n",
    "\n",
    "    axs[0].axhline(y=0, color='k')\n",
    "    # fill 2nd plot\n",
    "    axs[1].axhline(y=0, color='k')\n",
    "    plt.legend()\n",
    "\n",
    "    if title is not None:\n",
    "        plt.title(title)\n",
    "    plt.tight_layout()\n",
    "    return fig\n"
   ]
  },
  {
   "cell_type": "code",
   "execution_count": null,
   "metadata": {
    "collapsed": false
   },
   "outputs": [],
   "source": [
    "p = plot_2_subplots(df=df, x1='age', y1='height', y2='hair length', x2=None, title=None)"
   ]
  },
  {
   "cell_type": "markdown",
   "metadata": {},
   "source": [
    "Plot multiple groups (from same data columns) onto the same plot."
   ]
  },
  {
   "cell_type": "code",
   "execution_count": null,
   "metadata": {
    "collapsed": false
   },
   "outputs": [],
   "source": [
    "df.plot"
   ]
  },
  {
   "cell_type": "code",
   "execution_count": null,
   "metadata": {
    "collapsed": true
   },
   "outputs": [],
   "source": [
    "def plot_by_group(df, group, x, y, title=None):\n",
    "    fig, ax = plt.subplots(1, 1, figsize=(3.5, 2.5))\n",
    "    ax.set_xlabel(x)\n",
    "    ax.set_ylabel(y)\n",
    "    \n",
    "    # todo: move title up(?)\n",
    "    if title is not None:\n",
    "        ax.set_title(title)\n",
    "    \n",
    "    for tup, group_df in df.groupby(group):\n",
    "        # sort on the x attribute\n",
    "        group_df = group_df.sort_values(x)\n",
    "        # todo: print label in legend. \n",
    "        ax.plot(group_df[x], group_df[y], marker='o', label=tup[0])\n",
    "        print(tup)\n",
    "    \n",
    "    # todo: put legend outside the figure\n",
    "    plt.legend()"
   ]
  },
  {
   "cell_type": "code",
   "execution_count": null,
   "metadata": {
    "collapsed": false
   },
   "outputs": [],
   "source": [
    "plot_by_group(df=df, group='gender', x='age', y='height', title='this is a title, you bet.')"
   ]
  },
  {
   "cell_type": "markdown",
   "metadata": {},
   "source": [
    "Jake Vanderplas:\n",
    "\n",
    "plt.plot can be noticeably more efficient than plt.scatter. The reason is that plt.scatter has the capability to render a different size and/or color for each point, so the renderer must do the extra work of constructing each point individually. \n",
    "\n",
    "http://nbviewer.jupyter.org/github/jakevdp/PythonDataScienceHandbook/blob/master/notebooks/04.02-Simple-Scatter-Plots.ipynb"
   ]
  },
  {
   "cell_type": "code",
   "execution_count": null,
   "metadata": {
    "collapsed": false
   },
   "outputs": [],
   "source": [
    "def plot_2_subplots_v2(df, x1, x2, y1, y2, title=None):\n",
    "\n",
    "    fig, axs = plt.subplots(2, 1, figsize=(5, 4))\n",
    "    plt_data = {1:(df[x1], df[y1]), 2:(df[x2], df[y2])}\n",
    "    titles = {1:x1, 2:x2}\n",
    "    colors = {1:'#b3cde3', 2:'#decbe4'}\n",
    "\n",
    "    for row, ax in enumerate(axs, start=1):\n",
    "        print(row, ax)\n",
    "        ax.plot(plt_data[row][0], plt_data[row][1], color=colors[row], marker='o', label=row)\n",
    "        ax.set_xlabel('some x')\n",
    "        ax.set_title(titles[row])\n",
    "\n",
    "    plt.tight_layout()\n",
    "    return fig\n",
    "\n",
    "# kind of a silly example.  \n",
    "p = plot_2_subplots_v2(df=df, x1='age', y1='height', y2='hair length', x2='age', title=None)"
   ]
  },
  {
   "cell_type": "code",
   "execution_count": null,
   "metadata": {
    "collapsed": true
   },
   "outputs": [],
   "source": []
  }
 ],
 "metadata": {
  "anaconda-cloud": {},
  "kernelspec": {
   "display_name": "Python [default]",
   "language": "python",
   "name": "python3"
  },
  "language_info": {
   "codemirror_mode": {
    "name": "ipython",
    "version": 3
   },
   "file_extension": ".py",
   "mimetype": "text/x-python",
   "name": "python",
   "nbconvert_exporter": "python",
   "pygments_lexer": "ipython3",
   "version": "3.5.2"
  }
 },
 "nbformat": 4,
 "nbformat_minor": 0
}
