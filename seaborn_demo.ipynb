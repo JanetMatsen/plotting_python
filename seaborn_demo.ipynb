{
 "cells": [
  {
   "cell_type": "code",
   "execution_count": 1,
   "metadata": {
    "collapsed": false
   },
   "outputs": [],
   "source": [
    "import matplotlib as mpl\n",
    "mpl.use('TkAgg')\n",
    "import matplotlib.pyplot as plt\n",
    "%matplotlib inline\n",
    "\n",
    "import pandas as pd\n",
    "import seaborn as sns"
   ]
  },
  {
   "cell_type": "code",
   "execution_count": 2,
   "metadata": {
    "collapsed": false
   },
   "outputs": [
    {
     "name": "stdout",
     "output_type": "stream",
     "text": [
      "3.5.2 |Continuum Analytics, Inc.| (default, Jul  2 2016, 17:52:12) \n",
      "[GCC 4.2.1 Compatible Apple LLVM 4.2 (clang-425.0.28)]\n"
     ]
    }
   ],
   "source": [
    "import sys\n",
    "print(sys.version)"
   ]
  },
  {
   "cell_type": "code",
   "execution_count": 3,
   "metadata": {
    "collapsed": false
   },
   "outputs": [
    {
     "name": "stdout",
     "output_type": "stream",
     "text": [
      "Python 3.5.2 :: Continuum Analytics, Inc.\r\n"
     ]
    }
   ],
   "source": [
    "!python --version "
   ]
  },
  {
   "cell_type": "markdown",
   "metadata": {},
   "source": [
    "# Prepare a minimal data set. "
   ]
  },
  {
   "cell_type": "code",
   "execution_count": 4,
   "metadata": {
    "collapsed": false
   },
   "outputs": [],
   "source": [
    "dataframe = pd.DataFrame({'age':[1.,2,3,4,5,6,7,8,9],\n",
    "                         'height':[4, 4.5, 5, 6, 7, 8, 9, 9.5, 10],\n",
    "                         'gender':['M','F', 'F','M','M','F', 'F','M', 'F'],\n",
    "                         #'hair color':['brown','black', 'brown', 'blonde', 'brown', 'red', \n",
    "                         #              'brown', 'brown', 'black' ],\n",
    "                         'hair length':[1,6,2,3,1,5,6,5,3] })"
   ]
  },
  {
   "cell_type": "code",
   "execution_count": 5,
   "metadata": {
    "collapsed": false
   },
   "outputs": [
    {
     "data": {
      "text/html": [
       "<div>\n",
       "<table border=\"1\" class=\"dataframe\">\n",
       "  <thead>\n",
       "    <tr style=\"text-align: right;\">\n",
       "      <th></th>\n",
       "      <th>age</th>\n",
       "      <th>gender</th>\n",
       "      <th>hair length</th>\n",
       "      <th>height</th>\n",
       "    </tr>\n",
       "  </thead>\n",
       "  <tbody>\n",
       "    <tr>\n",
       "      <th>0</th>\n",
       "      <td>1.0</td>\n",
       "      <td>M</td>\n",
       "      <td>1</td>\n",
       "      <td>4.0</td>\n",
       "    </tr>\n",
       "    <tr>\n",
       "      <th>1</th>\n",
       "      <td>2.0</td>\n",
       "      <td>F</td>\n",
       "      <td>6</td>\n",
       "      <td>4.5</td>\n",
       "    </tr>\n",
       "    <tr>\n",
       "      <th>2</th>\n",
       "      <td>3.0</td>\n",
       "      <td>F</td>\n",
       "      <td>2</td>\n",
       "      <td>5.0</td>\n",
       "    </tr>\n",
       "    <tr>\n",
       "      <th>3</th>\n",
       "      <td>4.0</td>\n",
       "      <td>M</td>\n",
       "      <td>3</td>\n",
       "      <td>6.0</td>\n",
       "    </tr>\n",
       "    <tr>\n",
       "      <th>4</th>\n",
       "      <td>5.0</td>\n",
       "      <td>M</td>\n",
       "      <td>1</td>\n",
       "      <td>7.0</td>\n",
       "    </tr>\n",
       "    <tr>\n",
       "      <th>5</th>\n",
       "      <td>6.0</td>\n",
       "      <td>F</td>\n",
       "      <td>5</td>\n",
       "      <td>8.0</td>\n",
       "    </tr>\n",
       "    <tr>\n",
       "      <th>6</th>\n",
       "      <td>7.0</td>\n",
       "      <td>F</td>\n",
       "      <td>6</td>\n",
       "      <td>9.0</td>\n",
       "    </tr>\n",
       "    <tr>\n",
       "      <th>7</th>\n",
       "      <td>8.0</td>\n",
       "      <td>M</td>\n",
       "      <td>5</td>\n",
       "      <td>9.5</td>\n",
       "    </tr>\n",
       "    <tr>\n",
       "      <th>8</th>\n",
       "      <td>9.0</td>\n",
       "      <td>F</td>\n",
       "      <td>3</td>\n",
       "      <td>10.0</td>\n",
       "    </tr>\n",
       "  </tbody>\n",
       "</table>\n",
       "</div>"
      ],
      "text/plain": [
       "   age gender  hair length  height\n",
       "0  1.0      M            1     4.0\n",
       "1  2.0      F            6     4.5\n",
       "2  3.0      F            2     5.0\n",
       "3  4.0      M            3     6.0\n",
       "4  5.0      M            1     7.0\n",
       "5  6.0      F            5     8.0\n",
       "6  7.0      F            6     9.0\n",
       "7  8.0      M            5     9.5\n",
       "8  9.0      F            3    10.0"
      ]
     },
     "execution_count": 5,
     "metadata": {},
     "output_type": "execute_result"
    }
   ],
   "source": [
    "dataframe"
   ]
  },
  {
   "cell_type": "markdown",
   "metadata": {},
   "source": [
    "You can pass seaborn color palettes of RGB values.\n",
    "\n",
    "For example:"
   ]
  },
  {
   "cell_type": "code",
   "execution_count": 6,
   "metadata": {
    "collapsed": false
   },
   "outputs": [
    {
     "data": {
      "text/plain": [
       "[(0.20307574244885662, 0.26459054565118034, 0.30867615307078644),\n",
       " (0.20627451459566754, 0.33176471312840783, 0.42169935226440436),\n",
       " (0.20935025704452415, 0.3963552587795881, 0.53037550533519073),\n",
       " (0.21254902919133503, 0.46352942625681565, 0.64339870452880865),\n",
       " (0.21747534201036089, 0.53052930169635348, 0.75482251877878226),\n",
       " (0.30692811806996667, 0.58640524546305339, 0.78352942466735842),\n",
       " (0.39995900517195659, 0.64451622698042133, 0.81338460679147762),\n",
       " (0.48941178123156226, 0.70039217074712123, 0.84209151268005367),\n",
       " (0.58244266833355229, 0.75850315226448906, 0.87194669480417286)]"
      ]
     },
     "execution_count": 6,
     "metadata": {},
     "output_type": "execute_result"
    }
   ],
   "source": [
    "sns.color_palette(palette=\"Blues_d\", n_colors=9, desat=None)"
   ]
  },
  {
   "cell_type": "markdown",
   "metadata": {},
   "source": [
    "The following plot uses a seaborn-derived color pallette.  See below for info about how to make, modify, and view them."
   ]
  },
  {
   "cell_type": "code",
   "execution_count": 7,
   "metadata": {
    "collapsed": false
   },
   "outputs": [
    {
     "data": {
      "image/png": "[encoded data removed]",
      "text/plain": [
       "<matplotlib.figure.Figure at 0x10ee254e0>"
      ]
     },
     "metadata": {},
     "output_type": "display_data"
    }
   ],
   "source": [
    "def plot_data():\n",
    "    color_palette = sns.color_palette(palette=\"Blues_d\", n_colors=9, desat=None)\n",
    "    g = sns.FacetGrid(dataframe, col=\"gender\", hue='height', palette=color_palette)\n",
    "    g = (g.map(plt.scatter, \"age\", 'hair length', edgecolor=\"w\").add_legend())\n",
    "\n",
    "plot_data()"
   ]
  },
  {
   "cell_type": "code",
   "execution_count": 8,
   "metadata": {
    "collapsed": false
   },
   "outputs": [
    {
     "data": {
      "image/png": "[encoded data removed]",
      "text/plain": [
       "<matplotlib.figure.Figure at 0x10ee25cc0>"
      ]
     },
     "metadata": {},
     "output_type": "display_data"
    }
   ],
   "source": [
    "# change seaborn style\n",
    "sns.set(style=\"ticks\")\n",
    "\n",
    "# re-make the plot with this setting. \n",
    "plot_data()"
   ]
  },
  {
   "cell_type": "markdown",
   "metadata": {},
   "source": [
    "Add some settings to matplotlib to get bigger fonts. \n",
    "\n",
    "Note: not all of their suggestions are appropriate for my distribution/needs."
   ]
  },
  {
   "cell_type": "code",
   "execution_count": 9,
   "metadata": {
    "collapsed": true
   },
   "outputs": [],
   "source": [
    "# settings from I heart pandas: \n",
    "# https://github.com/fredhutchio/i-heart-pandas/blob/master/3-pandas.ipynb\n",
    "mpl.rcParams.update({\n",
    "    'font.size': 16, 'axes.titlesize': 17, 'axes.labelsize': 15,\n",
    "    'xtick.labelsize': 10, 'ytick.labelsize': 13,\n",
    "    #'font.family': 'Lato',  # I don't have this font family\n",
    "        'font.weight': 600,\n",
    "    'axes.labelweight': 600, 'axes.titleweight': 600,\n",
    "    #'figure.autolayout': True  # screws up layout for seaborn facetgrid objects. \n",
    "    })"
   ]
  },
  {
   "cell_type": "code",
   "execution_count": 10,
   "metadata": {
    "collapsed": false
   },
   "outputs": [
    {
     "data": {
      "image/png": "[encoded data removed]",
      "text/plain": [
       "<matplotlib.figure.Figure at 0x111a6cba8>"
      ]
     },
     "metadata": {},
     "output_type": "display_data"
    }
   ],
   "source": [
    "# re-make the plot with this setting. \n",
    "plot_data()"
   ]
  },
  {
   "cell_type": "markdown",
   "metadata": {},
   "source": [
    "# Making custom color maps\n",
    "\n",
    "You can pass seaborn custom RGB values.  Just put the lists of RGB values in a list:"
   ]
  },
  {
   "cell_type": "code",
   "execution_count": 11,
   "metadata": {
    "collapsed": false
   },
   "outputs": [
    {
     "data": {
      "text/plain": [
       "[array([ 0.07106475,  0.2657334 ,  0.17177439,  1.        ]),\n",
       " array([ 0.36441028,  0.51184576,  0.44068437,  1.        ]),\n",
       " array([ 0.66442276,  0.76355158,  0.71570594,  1.        ]),\n",
       " array([ 0.95,  0.95,  0.95,  1.  ]),\n",
       " array([ 0.7629515 ,  0.6726194 ,  0.84602388,  1.        ]),\n",
       " array([ 0.54270509,  0.38706233,  0.68583934,  1.        ]),\n",
       " array([ 0.32735306,  0.10785097,  0.52921445,  1.        ])]"
      ]
     },
     "execution_count": 11,
     "metadata": {},
     "output_type": "execute_result"
    }
   ],
   "source": [
    "# a sample seaborn-created color palette: \n",
    "# http://stanford.edu/~mwaskom/software/seaborn-dev/tutorial/color_palettes.html \n",
    "\n",
    "sns.diverging_palette(145, 280, s=85, l=25, n=7)"
   ]
  },
  {
   "cell_type": "markdown",
   "metadata": {},
   "source": [
    "Seaborn also comes with a function called palplot, which can display color palettes. "
   ]
  },
  {
   "cell_type": "code",
   "execution_count": 12,
   "metadata": {
    "collapsed": false
   },
   "outputs": [
    {
     "data": {
      "image/png": "[encoded data removed]",
      "text/plain": [
       "<matplotlib.figure.Figure at 0x1119d7080>"
      ]
     },
     "metadata": {},
     "output_type": "display_data"
    }
   ],
   "source": [
    "sns.palplot(sns.diverging_palette(145, 280, s=85, l=25, n=7))"
   ]
  },
  {
   "cell_type": "markdown",
   "metadata": {},
   "source": [
    "Since the palettes are just lists of list, you can path them together as you like. "
   ]
  },
  {
   "cell_type": "code",
   "execution_count": 13,
   "metadata": {
    "collapsed": false
   },
   "outputs": [
    {
     "data": {
      "image/png": "[encoded data removed]",
      "text/plain": [
       "<matplotlib.figure.Figure at 0x111a0ae80>"
      ]
     },
     "metadata": {},
     "output_type": "display_data"
    }
   ],
   "source": [
    "sns.palplot(sns.diverging_palette(145, 280, s=85, l=25, n=7)[0:5] +\n",
    "            sns.diverging_palette(220, 20, n=7)[4:])"
   ]
  },
  {
   "cell_type": "code",
   "execution_count": null,
   "metadata": {
    "collapsed": true
   },
   "outputs": [],
   "source": []
  }
 ],
 "metadata": {
  "anaconda-cloud": {},
  "kernelspec": {
   "display_name": "Python [default]",
   "language": "python",
   "name": "python3"
  },
  "language_info": {
   "codemirror_mode": {
    "name": "ipython",
    "version": 3
   },
   "file_extension": ".py",
   "mimetype": "text/x-python",
   "name": "python",
   "nbconvert_exporter": "python",
   "pygments_lexer": "ipython3",
   "version": "3.5.2"
  }
 },
 "nbformat": 4,
 "nbformat_minor": 0
}
